{
 "cells": [
  {
   "cell_type": "code",
   "execution_count": 2,
   "id": "6f1faa96",
   "metadata": {},
   "outputs": [],
   "source": [
    "import pandas as pd\n",
    "temp=pd.DataFrame()"
   ]
  },
  {
   "cell_type": "code",
   "execution_count": 7,
   "id": "205f74ae",
   "metadata": {},
   "outputs": [
    {
     "ename": "SyntaxError",
     "evalue": "invalid syntax (<ipython-input-7-a9e412b6caba>, line 3)",
     "output_type": "error",
     "traceback": [
      "\u001b[0;36m  File \u001b[0;32m\"<ipython-input-7-a9e412b6caba>\"\u001b[0;36m, line \u001b[0;32m3\u001b[0m\n\u001b[0;31m    temp['day_dt']=\u001b[0m\n\u001b[0m                   ^\u001b[0m\n\u001b[0;31mSyntaxError\u001b[0m\u001b[0;31m:\u001b[0m invalid syntax\n"
     ]
    }
   ],
   "source": [
    "from datetime import date\n",
    "today = date.today()\n",
    "temp['day_dt']="
   ]
  },
  {
   "cell_type": "code",
   "execution_count": 12,
   "id": "d41cc9a6",
   "metadata": {},
   "outputs": [
    {
     "data": {
      "text/plain": [
       "time.struct_time(tm_year=2021, tm_mon=6, tm_mday=29, tm_hour=0, tm_min=0, tm_sec=0, tm_wday=1, tm_yday=180, tm_isdst=-1)"
      ]
     },
     "execution_count": 12,
     "metadata": {},
     "output_type": "execute_result"
    }
   ],
   "source": []
  },
  {
   "cell_type": "code",
   "execution_count": 22,
   "id": "921a5a65",
   "metadata": {},
   "outputs": [],
   "source": [
    "def get_data_tp(till_date='2021-04-01', start_date='2014-10-01', end_date='2021-3-01'):\n",
    "    # initialize the client without providing the service account key\n",
    "    client = bigquery.Client('ltvsubscribers')\n",
    "    # till_date='2021-04-01'\n",
    "    # start_date='2014-10-01'\n",
    "    # end_date='2021-3-01'\n",
    "    sql =dummy()\n",
    "    job_config = bigquery.QueryJobConfig(\n",
    "        query_parameters=[\n",
    "          bigquery.ScalarQueryParameter(\"till_date\", \"DATE\", till_date),\n",
    "#             bigquery.ScalarQueryParameter(\"start_date\", \"DATE\", start_date),\n",
    "#             bigquery.ScalarQueryParameter(\"end_date\", \"DATE\", end_date)\n",
    "        ]\n",
    "    )\n",
    "    df = client.query(sql, job_config=job_config).to_dataframe()\n",
    "    #df.to_csv('Data_cohort/LTV_by_trial_Period/LTV_by_Trial_Period-' + till_date + '.csv', index=False)\n",
    "    return df"
   ]
  },
  {
   "cell_type": "code",
   "execution_count": 21,
   "id": "e1bb948e",
   "metadata": {},
   "outputs": [],
   "source": [
    "def dummy():\n",
    "    return \"\"\"SELECT * FROM `ltvsubscribers.anit_sandbox.pt_ltv_annual_plan_by_quarter`\n",
    "    where day_dt=Date(@till_date) LIMIT 1000\"\"\""
   ]
  },
  {
   "cell_type": "code",
   "execution_count": 23,
   "id": "a7a7b490",
   "metadata": {},
   "outputs": [
    {
     "data": {
      "text/html": [
       "<div>\n",
       "<style scoped>\n",
       "    .dataframe tbody tr th:only-of-type {\n",
       "        vertical-align: middle;\n",
       "    }\n",
       "\n",
       "    .dataframe tbody tr th {\n",
       "        vertical-align: top;\n",
       "    }\n",
       "\n",
       "    .dataframe thead th {\n",
       "        text-align: right;\n",
       "    }\n",
       "</style>\n",
       "<table border=\"1\" class=\"dataframe\">\n",
       "  <thead>\n",
       "    <tr style=\"text-align: right;\">\n",
       "      <th></th>\n",
       "      <th>day_dt</th>\n",
       "      <th>billing_partner</th>\n",
       "      <th>cf_plan</th>\n",
       "      <th>lcs_plan</th>\n",
       "      <th>dw_create_dt</th>\n",
       "    </tr>\n",
       "  </thead>\n",
       "  <tbody>\n",
       "    <tr>\n",
       "      <th>0</th>\n",
       "      <td>2021-04-01</td>\n",
       "      <td>RECURLY</td>\n",
       "      <td>8.76</td>\n",
       "      <td>6.33</td>\n",
       "      <td>2021-06-29 00:00:00+00:00</td>\n",
       "    </tr>\n",
       "  </tbody>\n",
       "</table>\n",
       "</div>"
      ],
      "text/plain": [
       "       day_dt billing_partner  cf_plan  lcs_plan              dw_create_dt\n",
       "0  2021-04-01         RECURLY     8.76      6.33 2021-06-29 00:00:00+00:00"
      ]
     },
     "execution_count": 23,
     "metadata": {},
     "output_type": "execute_result"
    }
   ],
   "source": [
    "from google.cloud import bigquery\n",
    "import warnings\n",
    "import pandas as pd\n",
    "import numpy as np\n",
    "warnings.filterwarnings(\"ignore\")\n",
    "get_data_tp()"
   ]
  },
  {
   "cell_type": "code",
   "execution_count": 41,
   "id": "d3d8895c",
   "metadata": {},
   "outputs": [
    {
     "data": {
      "text/plain": [
       "24"
      ]
     },
     "execution_count": 41,
     "metadata": {},
     "output_type": "execute_result"
    }
   ],
   "source": [
    "project_id='ltvsubscribers'\n",
    "dataset='anit_sandbox'\n",
    "table='pt_ltv_signup_month_by_quarter'\n",
    "table_name=project_id+'.'+dataset+'.'+table\n",
    "myquery = \"select * from @table_name\"\n",
    "\n",
    "client = bigquery.Client('ltvsubscribers')\n",
    "job = client.query(myquery)\n",
    "result = job.result()\n",
    "result.total_rows"
   ]
  },
  {
   "cell_type": "code",
   "execution_count": 49,
   "id": "0f5633fd",
   "metadata": {},
   "outputs": [],
   "source": [
    "def check_if_data_present(project_id,dataset,table):\n",
    "    from google.cloud import bigquery\n",
    "    sql = \"SELECT * FROM `{0}.{1}.{2}`\".format(project_id, dataset, table)\n",
    "    client = bigquery.Client(project_id)\n",
    "    job = client.query(myquery)\n",
    "    result = job.result()\n",
    "    if(result.total_rows>0):\n",
    "        return 'append'\n",
    "    else:\n",
    "        return 'replace'"
   ]
  },
  {
   "cell_type": "code",
   "execution_count": 50,
   "id": "d345fa93",
   "metadata": {},
   "outputs": [
    {
     "data": {
      "text/plain": [
       "'append'"
      ]
     },
     "execution_count": 50,
     "metadata": {},
     "output_type": "execute_result"
    }
   ],
   "source": [
    "check_if_data_present(project_id,dataset,table)"
   ]
  },
  {
   "cell_type": "code",
   "execution_count": 47,
   "id": "cc41a302",
   "metadata": {},
   "outputs": [],
   "source": [
    "project_id='ltvsubscribers'\n",
    "dataset='anit_sandbox'\n",
    "table='pt_ltv_signup_month_by_quarter'"
   ]
  },
  {
   "cell_type": "code",
   "execution_count": null,
   "id": "fad489ed",
   "metadata": {},
   "outputs": [],
   "source": []
  }
 ],
 "metadata": {
  "kernelspec": {
   "display_name": "Python 3",
   "language": "python",
   "name": "python3"
  },
  "language_info": {
   "codemirror_mode": {
    "name": "ipython",
    "version": 3
   },
   "file_extension": ".py",
   "mimetype": "text/x-python",
   "name": "python",
   "nbconvert_exporter": "python",
   "pygments_lexer": "ipython3",
   "version": "3.5.6"
  }
 },
 "nbformat": 4,
 "nbformat_minor": 5
}
